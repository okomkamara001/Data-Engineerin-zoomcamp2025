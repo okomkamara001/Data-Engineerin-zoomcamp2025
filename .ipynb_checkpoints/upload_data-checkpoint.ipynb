{
 "cells": [
  {
   "cell_type": "code",
   "execution_count": 2,
   "id": "4f468f2e-ba14-40bf-a5e2-6d8865ac48aa",
   "metadata": {},
   "outputs": [
    {
     "name": "stdout",
     "output_type": "stream",
     "text": [
      "Hello jupyter noteebook\n"
     ]
    }
   ],
   "source": [
    "print(\"Hello jupyter noteebook\")"
   ]
  },
  {
   "cell_type": "code",
   "execution_count": null,
   "id": "e4fdc70a-91ac-4ff3-899c-93d732319ef0",
   "metadata": {},
   "outputs": [],
   "source": []
  }
 ],
 "metadata": {
  "kernelspec": {
   "display_name": "Python 3 (ipykernel)",
   "language": "python",
   "name": "python3"
  },
  "language_info": {
   "codemirror_mode": {
    "name": "ipython",
    "version": 3
   },
   "file_extension": ".py",
   "mimetype": "text/x-python",
   "name": "python",
   "nbconvert_exporter": "python",
   "pygments_lexer": "ipython3",
   "version": "3.12.1"
  }
 },
 "nbformat": 4,
 "nbformat_minor": 5
}
